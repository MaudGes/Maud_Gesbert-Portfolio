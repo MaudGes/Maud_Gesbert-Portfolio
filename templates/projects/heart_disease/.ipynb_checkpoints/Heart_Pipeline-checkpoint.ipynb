{
 "cells": [
  {
   "cell_type": "code",
   "execution_count": 3,
   "id": "ae55e056-3d8a-41a3-8340-7fd93b065ed5",
   "metadata": {},
   "outputs": [
    {
     "name": "stdout",
     "output_type": "stream",
     "text": [
      "Cross-validation accuracy scores: [0.90728123 0.90677179 0.90679994 0.90770097 0.9070252 ]\n",
      "Mean cross-validation accuracy: 0.9071158255316043\n",
      "Test set accuracy: 0.9065620729528014\n",
      "Pipeline exported as 'heart_disease_cart_pipeline.joblib'\n",
      "Pipeline exported as 'heart_disease_cart_pipeline.pkl'\n"
     ]
    }
   ],
   "source": [
    "# Import necessary libraries\n",
    "import pandas as pd\n",
    "from sklearn.pipeline import Pipeline\n",
    "from sklearn.compose import ColumnTransformer\n",
    "from sklearn.preprocessing import StandardScaler\n",
    "from sklearn.tree import DecisionTreeClassifier\n",
    "from sklearn.model_selection import StratifiedKFold, cross_val_score, train_test_split\n",
    "import pickle\n",
    "import joblib\n",
    "\n",
    "# Read the dataset from a CSV file\n",
    "heart_disease = pd.read_csv(\"heart_disease_health_indicators_BRFSS2015.csv\")\n",
    "\n",
    "# Split data into features and target label\n",
    "X = heart_disease[['GenHlth', 'Age', 'Stroke', 'Sex', 'HighChol', 'HighBP', 'Diabetes', 'PhysHlth', 'BMI', 'DiffWalk']]\n",
    "y = heart_disease[\"HeartDiseaseorAttack\"]\n",
    "\n",
    "# Split the data into training and test sets with stratification on the target\n",
    "X_train, X_test, y_train, y_test = train_test_split(X, y, test_size=0.3, stratify=y, random_state=42)\n",
    "\n",
    "# Define the continuous and binary columns\n",
    "continuous_columns = ['BMI', 'GenHlth', 'PhysHlth', 'Age']\n",
    "# The remaining columns are binary: ['Stroke', 'Sex', 'HighChol', 'HighBP', 'Diabetes', 'DiffWalk']\n",
    "\n",
    "# Create a ColumnTransformer that scales only the continuous features.\n",
    "preprocessor = ColumnTransformer(\n",
    "    transformers=[\n",
    "        ('num', StandardScaler(), continuous_columns)\n",
    "    ],\n",
    "    remainder='passthrough'  # Leave the binary features unchanged.\n",
    ")\n",
    "\n",
    "# Create the CART model with the specified hyperparameters\n",
    "cart_model = DecisionTreeClassifier(\n",
    "    min_samples_split=10,  # Minimum samples required to split an internal node\n",
    "    min_samples_leaf=10,   # Minimum samples required at a leaf node\n",
    "    max_features=None,     # All features are considered when finding the best split\n",
    "    max_depth=8,           # Maximum depth of the tree\n",
    "    criterion='gini'       # Using Gini impurity to measure the quality of a split\n",
    ")\n",
    "\n",
    "# Create the pipeline with the preprocessor and the CART model\n",
    "pipeline = Pipeline([\n",
    "    ('preprocessor', preprocessor),\n",
    "    ('model', cart_model)\n",
    "])\n",
    "\n",
    "# Evaluate the pipeline using stratified 5‑fold cross-validation on the training set\n",
    "skf = StratifiedKFold(n_splits=5, shuffle=True, random_state=42)\n",
    "cv_scores = cross_val_score(pipeline, X_train, y_train, cv=skf, scoring='accuracy')\n",
    "print(\"Cross-validation accuracy scores:\", cv_scores)\n",
    "print(\"Mean cross-validation accuracy:\", cv_scores.mean())\n",
    "\n",
    "# Fit the pipeline on the training data\n",
    "pipeline.fit(X_train, y_train)\n",
    "\n",
    "# Evaluate the trained pipeline on the test set\n",
    "test_accuracy = pipeline.score(X_test, y_test)\n",
    "print(\"Test set accuracy:\", test_accuracy)\n",
    "\n",
    "# Export the pipeline using joblib for later deployment in your API\n",
    "joblib.dump(pipeline, 'heart_disease_cart_pipeline.joblib')\n",
    "print(\"Pipeline exported as 'heart_disease_cart_pipeline.joblib'\")\n",
    "\n",
    "# Open a file in write-binary mode and dump the pipeline into it\n",
    "with open('heart_disease_cart_pipeline.pkl', 'wb') as file:\n",
    "    pickle.dump(pipeline, file)\n",
    "print(\"Pipeline exported as 'heart_disease_cart_pipeline.pkl'\")"
   ]
  },
  {
   "cell_type": "code",
   "execution_count": null,
   "id": "a05a7db2-36bd-47d0-b311-eba16affbb57",
   "metadata": {},
   "outputs": [],
   "source": []
  }
 ],
 "metadata": {
  "kernelspec": {
   "display_name": "scoring",
   "language": "python",
   "name": "scoring"
  },
  "language_info": {
   "codemirror_mode": {
    "name": "ipython",
    "version": 3
   },
   "file_extension": ".py",
   "mimetype": "text/x-python",
   "name": "python",
   "nbconvert_exporter": "python",
   "pygments_lexer": "ipython3",
   "version": "3.9.20"
  }
 },
 "nbformat": 4,
 "nbformat_minor": 5
}
